{
 "cells": [
  {
   "cell_type": "markdown",
   "id": "da626dfe-db97-4d6e-9945-d5a05e3568e6",
   "metadata": {},
   "source": [
    "# Model evaluation using cross-validation"
   ]
  },
  {
   "cell_type": "code",
   "execution_count": 3,
   "id": "426e41e8-6d47-41c8-b57a-feb63510a537",
   "metadata": {},
   "outputs": [],
   "source": [
    "import pandas as pd\n",
    "import numpy as np\n",
    "np.set_printoptions(legacy='1.25')\n"
   ]
  },
  {
   "cell_type": "code",
   "execution_count": 4,
   "id": "fb6cd4ed-1f2a-4b49-915e-d2fba6045774",
   "metadata": {},
   "outputs": [],
   "source": [
    "adult_census = pd.read_csv(\"../datasets/adult-census.csv\")\n",
    "target_name = \"class\"\n",
    "target = adult_census[target_name]\n",
    "data = adult_census.drop(columns=target_name)"
   ]
  },
  {
   "cell_type": "code",
   "execution_count": 5,
   "id": "b6bf30d1-bade-4091-9957-6f4bcc388bb7",
   "metadata": {},
   "outputs": [],
   "source": [
    "numerical_columns = [\"age\", \"capital-gain\", \"capital-loss\", \"hours-per-week\"]\n",
    "\n",
    "data_numeric = data[numerical_columns]"
   ]
  },
  {
   "cell_type": "markdown",
   "id": "6c35c229-fc19-4038-8b3d-5c59ce1f65a6",
   "metadata": {},
   "source": [
    "We use the `make_pipeline` to combine the preprocessing and the estimator in every iteration of cross-validation"
   ]
  },
  {
   "cell_type": "code",
   "execution_count": 6,
   "id": "a00c2063-3c79-470a-bec4-f8bd054d5ba0",
   "metadata": {},
   "outputs": [],
   "source": [
    "from sklearn.preprocessing import StandardScaler\n",
    "from sklearn.linear_model import LogisticRegression\n",
    "from sklearn.pipeline import make_pipeline\n",
    "\n",
    "model = make_pipeline(StandardScaler(), LogisticRegression())"
   ]
  },
  {
   "cell_type": "markdown",
   "id": "d9f4d4f2-93ce-4b12-84e6-4889cb584efa",
   "metadata": {},
   "source": [
    "### Why we need cross-validation\n",
    "\n",
    "Before: single split into train and test\n",
    "Disadvantages:\n",
    "- random split -> we don't know how much the generalization performance varies\n",
    "- when we do not have a lot of data, splitting the data means even smaller amount of data for training and testing, yielding an even more noisy (single) measure of generalization performance\n",
    "\n",
    "Cross-validation:\n",
    "- repeats training procedure such that the train and test sets are different each time\n",
    "- in each repetition, we measure the generalization performance\n",
    "- then, we aggregate them: mean and variability -> can assess them empirically\n"
   ]
  },
  {
   "attachments": {
    "70d4ffb5-b7da-4fc3-85fc-100daa44d747.png": {
     "image/png": "[encoded data removed]"
    }
   },
   "cell_type": "markdown",
   "id": "9ce2f691-df06-4411-8d08-8b3a06cd9da1",
   "metadata": {},
   "source": [
    "A popular CV strategy is k-fold strategy: split dataset into `k` partitions where\n",
    "- `k-1` partitions are used to train the model\n",
    "- `1` partition to score\n",
    "\n",
    "![image.png](attachment:70d4ffb5-b7da-4fc3-85fc-100daa44d747.png)\n",
    "\n",
    "Computationally intensive b/c we train several models, not just one.\n",
    "\n",
    "### Using cross-validation in sklearn"
   ]
  },
  {
   "cell_type": "code",
   "execution_count": 7,
   "id": "c46995bd-d13c-4687-adec-873728cacfc1",
   "metadata": {},
   "outputs": [],
   "source": [
    "from sklearn.model_selection import cross_validate"
   ]
  },
  {
   "cell_type": "code",
   "execution_count": 11,
   "id": "341040ab-76c0-4d3f-8528-bd2e14a9ec85",
   "metadata": {},
   "outputs": [
    {
     "data": {
      "text/plain": [
       "{'fit_time': array([0.06432772, 0.06882405, 0.06926489, 0.06519866, 0.0647943 ]),\n",
       " 'score_time': array([0.01374388, 0.01247406, 0.01232672, 0.01183677, 0.01194644]),\n",
       " 'test_score': array([0.79557785, 0.80049135, 0.79965192, 0.79873055, 0.80456593])}"
      ]
     },
     "execution_count": 11,
     "metadata": {},
     "output_type": "execute_result"
    }
   ],
   "source": [
    "model = make_pipeline(StandardScaler(), LogisticRegression())\n",
    "cv_result = cross_validate(model, data_numeric, target, cv=5)\n",
    "cv_result"
   ]
  },
  {
   "cell_type": "markdown",
   "id": "d6cd38b6-cb37-40f5-87a2-810467ef9ad5",
   "metadata": {},
   "source": [
    "Explain the output of `cross_validate`\n",
    "- time to train and predict\n",
    "- default score on testing data in each fold\n",
    "\n",
    "\n",
    "Note that models fitted are discarded. In a pipeline of training and evaluating models, we would choose the best according to CV, and then train one model on the full dataset.\n",
    "\n",
    "\n",
    "We can check the variability of the generalization performance."
   ]
  },
  {
   "cell_type": "code",
   "execution_count": 13,
   "id": "df1ca187-b2b8-41f1-a39e-49d150553015",
   "metadata": {},
   "outputs": [
    {
     "name": "stdout",
     "output_type": "stream",
     "text": [
      "The mean cross-validation accuracy is: 0.800 +/- 0.003\n"
     ]
    }
   ],
   "source": [
    "scores = cv_result[\"test_score\"]\n",
    "scores_mean = scores.mean()\n",
    "scores_std = scores.std()\n",
    "print(f\"The mean cross-validation accuracy is: {scores_mean:.3f} +/- {scores_std:.3f}\")\n"
   ]
  },
  {
   "cell_type": "markdown",
   "id": "ce057f0b-b8a0-41ee-ad26-25405f16da6f",
   "metadata": {},
   "source": [
    "\n",
    "# Exercise: Recap fitting a scikit-learn model on numerical data\n",
    "#### 1. Why do we need two sets: a train set and a test set?\n",
    "\n",
    "a) to train the model faster\n",
    "b) to validate the model on unseen data\n",
    "c) to improve the accuracy of the model\n",
    "\n",
    "Select all answers that apply\n",
    "\n",
    "Answers: (b)\n",
    "\n",
    "#### 2. The generalization performance of a scikit-learn model can be evaluated by:\n",
    "\n",
    "a) calling fit to train the model on the training set, predict on the test set to get the predictions, and compute the score by passing the predictions and the true target values to some metric function\n",
    "b) calling fit to train the model on the training set and score to compute the score on the test set\n",
    "c) calling cross_validate by passing the model, the data and the target\n",
    "d) calling fit_transform on the data and then score to compute the score on the test set\n",
    "\n",
    "Select all answers that apply\n",
    "\n",
    "(a), (c)\n",
    "\n",
    "#### 3. When calling `cross_validate(estimator, X, y, cv=5)`, the following happens:\n",
    "\n",
    "a) X and y are internally split five times with non-overlapping test sets\n",
    "b) estimator.fit is called 5 times on the full X and y\n",
    "c) estimator.fit is called 5 times, each time on a different training set\n",
    "d) a Python dictionary is returned containing a key/value containing a NumPy array with 5 scores computed on the train sets\n",
    "e) a Python dictionary is returned containing a key/value containing a NumPy array with 5 scores computed on the test sets\n",
    "\n",
    "Select all answers that apply\n",
    "\n",
    "(a), (c), (E)\n",
    "\n",
    "#### 4. (optional) Scaling\n",
    "We define a 2-dimensional dataset represented graphically as follows:\n",
    "![](https://i.imgur.com/muvSbI6.png)\n",
    "\n",
    "Question\n",
    "\n",
    "If we process the dataset using a StandardScaler with the default parameters, which of the following results do you expect:\n",
    "\n",
    "![](https://i.imgur.com/t5mTlVG.png)\n",
    "\n",
    "\n",
    "a) Preprocessing A\n",
    "b) Preprocessing B\n",
    "c) Preprocessing C\n",
    "d) Preprocessing D\n",
    "\n",
    "Select a single answer\n",
    "\n",
    "(b)\n",
    "\n",
    "#### 5. (optional) Cross-validation allows us to:\n",
    "\n",
    "a) train the model faster\n",
    "b) measure the generalization performance of the model\n",
    "c) reach better generalization performance\n",
    "d) estimate the variability of the generalization score\n",
    "\n",
    "Select all answers that apply\n",
    "\n",
    "(b), (d)\n"
   ]
  },
  {
   "cell_type": "code",
   "execution_count": null,
   "id": "6f7d8b21-dc1b-41c7-857c-827f739b3c0f",
   "metadata": {},
   "outputs": [],
   "source": []
  }
 ],
 "metadata": {
  "kernelspec": {
   "display_name": "Python 3 (ipykernel)",
   "language": "python",
   "name": "python3"
  },
  "language_info": {
   "codemirror_mode": {
    "name": "ipython",
    "version": 3
   },
   "file_extension": ".py",
   "mimetype": "text/x-python",
   "name": "python",
   "nbconvert_exporter": "python",
   "pygments_lexer": "ipython3",
   "version": "3.12.8"
  }
 },
 "nbformat": 4,
 "nbformat_minor": 5
}
