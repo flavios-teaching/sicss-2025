{
 "cells": [
  {
   "cell_type": "code",
   "execution_count": 22,
   "id": "5631c694-82cc-464a-b458-d5aeb05445dc",
   "metadata": {},
   "outputs": [],
   "source": [
    "import pandas as pd\n",
    "import numpy as np\n",
    "np.set_printoptions(legacy='1.25')"
   ]
  },
  {
   "cell_type": "code",
   "execution_count": 2,
   "id": "2485e2a2-526c-4a8a-8906-e74abed027c5",
   "metadata": {},
   "outputs": [
    {
     "data": {
      "text/plain": [
       "'/home/flavio/repositories/teaching/sicss-2025/teaching-notebooks/notebooks'"
      ]
     },
     "execution_count": 2,
     "metadata": {},
     "output_type": "execute_result"
    }
   ],
   "source": [
    "import os \n",
    "os.getcwd()"
   ]
  },
  {
   "cell_type": "code",
   "execution_count": 3,
   "id": "4ed243b4-f279-47df-a56e-c70b289a74ab",
   "metadata": {},
   "outputs": [],
   "source": [
    "adult_census = pd.read_csv(\"../datasets/adult-census-numeric.csv\")"
   ]
  },
  {
   "cell_type": "code",
   "execution_count": null,
   "id": "94a70e70-c1d7-4707-beda-4e7fe68f8640",
   "metadata": {},
   "outputs": [],
   "source": []
  },
  {
   "cell_type": "code",
   "execution_count": 4,
   "id": "0b597fc8-42ee-4ef6-8c8c-7d3508363872",
   "metadata": {},
   "outputs": [
    {
     "data": {
      "text/html": [
       "<div>\n",
       "<style scoped>\n",
       "    .dataframe tbody tr th:only-of-type {\n",
       "        vertical-align: middle;\n",
       "    }\n",
       "\n",
       "    .dataframe tbody tr th {\n",
       "        vertical-align: top;\n",
       "    }\n",
       "\n",
       "    .dataframe thead th {\n",
       "        text-align: right;\n",
       "    }\n",
       "</style>\n",
       "<table border=\"1\" class=\"dataframe\">\n",
       "  <thead>\n",
       "    <tr style=\"text-align: right;\">\n",
       "      <th></th>\n",
       "      <th>age</th>\n",
       "      <th>capital-gain</th>\n",
       "      <th>capital-loss</th>\n",
       "      <th>hours-per-week</th>\n",
       "      <th>class</th>\n",
       "    </tr>\n",
       "  </thead>\n",
       "  <tbody>\n",
       "    <tr>\n",
       "      <th>0</th>\n",
       "      <td>41</td>\n",
       "      <td>0</td>\n",
       "      <td>0</td>\n",
       "      <td>92</td>\n",
       "      <td>&lt;=50K</td>\n",
       "    </tr>\n",
       "    <tr>\n",
       "      <th>1</th>\n",
       "      <td>48</td>\n",
       "      <td>0</td>\n",
       "      <td>0</td>\n",
       "      <td>40</td>\n",
       "      <td>&lt;=50K</td>\n",
       "    </tr>\n",
       "    <tr>\n",
       "      <th>2</th>\n",
       "      <td>60</td>\n",
       "      <td>0</td>\n",
       "      <td>0</td>\n",
       "      <td>25</td>\n",
       "      <td>&lt;=50K</td>\n",
       "    </tr>\n",
       "    <tr>\n",
       "      <th>3</th>\n",
       "      <td>37</td>\n",
       "      <td>0</td>\n",
       "      <td>0</td>\n",
       "      <td>45</td>\n",
       "      <td>&lt;=50K</td>\n",
       "    </tr>\n",
       "    <tr>\n",
       "      <th>4</th>\n",
       "      <td>73</td>\n",
       "      <td>3273</td>\n",
       "      <td>0</td>\n",
       "      <td>40</td>\n",
       "      <td>&lt;=50K</td>\n",
       "    </tr>\n",
       "  </tbody>\n",
       "</table>\n",
       "</div>"
      ],
      "text/plain": [
       "   age  capital-gain  capital-loss  hours-per-week   class\n",
       "0   41             0             0              92   <=50K\n",
       "1   48             0             0              40   <=50K\n",
       "2   60             0             0              25   <=50K\n",
       "3   37             0             0              45   <=50K\n",
       "4   73          3273             0              40   <=50K"
      ]
     },
     "execution_count": 4,
     "metadata": {},
     "output_type": "execute_result"
    }
   ],
   "source": [
    "adult_census.head()"
   ]
  },
  {
   "cell_type": "markdown",
   "id": "4f2b245f-c1a8-4740-b8aa-ce3eabb318d0",
   "metadata": {},
   "source": [
    "This dataset has all we need\n",
    "- the target class we want to predict: `class`\n",
    "- the data we want to use to train the model: remaining columns\n",
    "\n",
    "Let's now separate the predictors from the target"
   ]
  },
  {
   "cell_type": "markdown",
   "id": "716ee17c-a805-49d7-83f9-5288750429af",
   "metadata": {},
   "source": [
    "### Separate the data and the target"
   ]
  },
  {
   "cell_type": "code",
   "execution_count": 5,
   "id": "037afdb7-65b8-4e07-a6ba-d8c76867e585",
   "metadata": {},
   "outputs": [
    {
     "data": {
      "text/plain": [
       "0         <=50K\n",
       "1         <=50K\n",
       "2         <=50K\n",
       "3         <=50K\n",
       "4         <=50K\n",
       "          ...  \n",
       "39068     <=50K\n",
       "39069     <=50K\n",
       "39070      >50K\n",
       "39071     <=50K\n",
       "39072      >50K\n",
       "Name: class, Length: 39073, dtype: object"
      ]
     },
     "execution_count": 5,
     "metadata": {},
     "output_type": "execute_result"
    }
   ],
   "source": [
    "target_name = \"class\"\n",
    "target = adult_census[target_name]\n",
    "target"
   ]
  },
  {
   "cell_type": "code",
   "execution_count": 6,
   "id": "eb2e07b3-2777-4ee4-a857-57a9366a1259",
   "metadata": {},
   "outputs": [
    {
     "data": {
      "text/html": [
       "<div>\n",
       "<style scoped>\n",
       "    .dataframe tbody tr th:only-of-type {\n",
       "        vertical-align: middle;\n",
       "    }\n",
       "\n",
       "    .dataframe tbody tr th {\n",
       "        vertical-align: top;\n",
       "    }\n",
       "\n",
       "    .dataframe thead th {\n",
       "        text-align: right;\n",
       "    }\n",
       "</style>\n",
       "<table border=\"1\" class=\"dataframe\">\n",
       "  <thead>\n",
       "    <tr style=\"text-align: right;\">\n",
       "      <th></th>\n",
       "      <th>age</th>\n",
       "      <th>capital-gain</th>\n",
       "      <th>capital-loss</th>\n",
       "      <th>hours-per-week</th>\n",
       "    </tr>\n",
       "  </thead>\n",
       "  <tbody>\n",
       "    <tr>\n",
       "      <th>0</th>\n",
       "      <td>41</td>\n",
       "      <td>0</td>\n",
       "      <td>0</td>\n",
       "      <td>92</td>\n",
       "    </tr>\n",
       "    <tr>\n",
       "      <th>1</th>\n",
       "      <td>48</td>\n",
       "      <td>0</td>\n",
       "      <td>0</td>\n",
       "      <td>40</td>\n",
       "    </tr>\n",
       "    <tr>\n",
       "      <th>2</th>\n",
       "      <td>60</td>\n",
       "      <td>0</td>\n",
       "      <td>0</td>\n",
       "      <td>25</td>\n",
       "    </tr>\n",
       "    <tr>\n",
       "      <th>3</th>\n",
       "      <td>37</td>\n",
       "      <td>0</td>\n",
       "      <td>0</td>\n",
       "      <td>45</td>\n",
       "    </tr>\n",
       "    <tr>\n",
       "      <th>4</th>\n",
       "      <td>73</td>\n",
       "      <td>3273</td>\n",
       "      <td>0</td>\n",
       "      <td>40</td>\n",
       "    </tr>\n",
       "  </tbody>\n",
       "</table>\n",
       "</div>"
      ],
      "text/plain": [
       "   age  capital-gain  capital-loss  hours-per-week\n",
       "0   41             0             0              92\n",
       "1   48             0             0              40\n",
       "2   60             0             0              25\n",
       "3   37             0             0              45\n",
       "4   73          3273             0              40"
      ]
     },
     "execution_count": 6,
     "metadata": {},
     "output_type": "execute_result"
    }
   ],
   "source": [
    "data = adult_census.drop(columns=[target_name])\n",
    "data.head()"
   ]
  },
  {
   "cell_type": "markdown",
   "id": "f2fa030c-64fe-499e-b026-18e83f612f68",
   "metadata": {},
   "source": [
    "Now, let's explore the predictors, or *features*, in some more detail."
   ]
  },
  {
   "cell_type": "code",
   "execution_count": 7,
   "id": "b597f85d-6ac9-4cdb-9e12-130c50a120fe",
   "metadata": {},
   "outputs": [
    {
     "data": {
      "text/plain": [
       "Index(['age', 'capital-gain', 'capital-loss', 'hours-per-week'], dtype='object')"
      ]
     },
     "execution_count": 7,
     "metadata": {},
     "output_type": "execute_result"
    }
   ],
   "source": [
    "data.columns"
   ]
  },
  {
   "cell_type": "code",
   "execution_count": 9,
   "id": "be9543b4-4797-4867-9e17-ca8786ad142d",
   "metadata": {},
   "outputs": [
    {
     "name": "stdout",
     "output_type": "stream",
     "text": [
      "The dataset contains 39073 samples and 4 features.\n"
     ]
    }
   ],
   "source": [
    "n_rows = data.shape[0]\n",
    "n_cols = data.shape[1]\n",
    "print(f\"The dataset contains {n_rows} samples and {n_cols} features.\")"
   ]
  },
  {
   "cell_type": "markdown",
   "id": "258b2e9d-0506-4da1-a0b2-c0c455fc80dc",
   "metadata": {},
   "source": [
    "### Fit a model and make predictions\n",
    "\n",
    "**Note**\n",
    "- we use k-nearest neighbors strategy. It works by taking `k` samples that are closest to the sample of interest. It makes the prediction based on the majority class of these samples\n",
    "- The algorithm is rarely used in practice, but it is intuitive. This is why we use it here. Later, we introduce better models.\n",
    "\n",
    "\n",
    "The `fit` method trains the model from the input (features) and the target data."
   ]
  },
  {
   "cell_type": "code",
   "execution_count": 10,
   "id": "5435def4-312d-4253-a68a-37e1996dfdfe",
   "metadata": {},
   "outputs": [],
   "source": [
    "from sklearn.neighbors import KNeighborsClassifier\n",
    "model = KNeighborsClassifier()\n",
    "_ = model.fit(data, target)"
   ]
  },
  {
   "attachments": {
    "eb0510e8-07d0-4bdc-b5a5-4083c37ae80e.png": {
     "image/png": "[encoded data removed]"
    }
   },
   "cell_type": "markdown",
   "id": "f31a6547-3be6-454f-8a9b-9a58e1551390",
   "metadata": {},
   "source": [
    "#### What is going on?\n",
    "\n",
    "Here is a figure:\n",
    "![image.png](attachment:eb0510e8-07d0-4bdc-b5a5-4083c37ae80e.png)\n",
    "\n",
    "The `fit` method\n",
    "- takes training data (features) and training target (separately)\n",
    "- does some computation -> learning algorithm\n",
    "- stores the fitted model in the model state\n",
    "- the model state can be re-used later for prediction and transformations (we'll see)\n",
    "\n",
    "\n",
    "#### Now, let's make some predictions"
   ]
  },
  {
   "cell_type": "code",
   "execution_count": 11,
   "id": "4f920c3d-469d-4284-9caf-7f53144ac4c8",
   "metadata": {},
   "outputs": [],
   "source": [
    "target_predicted =model.predict(data)"
   ]
  },
  {
   "attachments": {
    "11b3d3c3-3e24-4656-b62f-ded2a0955024.png": {
     "image/png": "[encoded data removed]"
    }
   },
   "cell_type": "markdown",
   "id": "0638835c-ecfc-4530-afb6-4a6081198251",
   "metadata": {},
   "source": [
    "#### What is going on?\n",
    "![image.png](attachment:11b3d3c3-3e24-4656-b62f-ded2a0955024.png)\n",
    "\n",
    "- the model uses the `predict` prediction function combines the model state with some testing data to make new predictions.\n",
    "\n",
    "\n",
    "\n",
    "**Conclusion**: scikit learn has a standard interface, and `fit` and `predict` are methods in many of the scikit classes.\n"
   ]
  },
  {
   "cell_type": "code",
   "execution_count": 12,
   "id": "7a2bfd74-8b1f-4ada-8460-66a78494a86c",
   "metadata": {},
   "outputs": [
    {
     "data": {
      "text/plain": [
       "array([' >50K', ' <=50K', ' <=50K', ' <=50K', ' <=50K'], dtype=object)"
      ]
     },
     "execution_count": 12,
     "metadata": {},
     "output_type": "execute_result"
    }
   ],
   "source": [
    "target_predicted[:5]"
   ]
  },
  {
   "cell_type": "code",
   "execution_count": 13,
   "id": "302e5b06-6815-43f2-bb91-701323b64379",
   "metadata": {},
   "outputs": [
    {
     "data": {
      "text/plain": [
       "0     <=50K\n",
       "1     <=50K\n",
       "2     <=50K\n",
       "3     <=50K\n",
       "4     <=50K\n",
       "Name: class, dtype: object"
      ]
     },
     "execution_count": 13,
     "metadata": {},
     "output_type": "execute_result"
    }
   ],
   "source": [
    "# let's compare to the actual data\n",
    "target[:5]"
   ]
  },
  {
   "cell_type": "code",
   "execution_count": 14,
   "id": "4a43827f-1d3c-4704-b4d2-b901aed8e214",
   "metadata": {},
   "outputs": [
    {
     "data": {
      "text/plain": [
       "0    False\n",
       "1     True\n",
       "2     True\n",
       "3     True\n",
       "4     True\n",
       "Name: class, dtype: bool"
      ]
     },
     "execution_count": 14,
     "metadata": {},
     "output_type": "execute_result"
    }
   ],
   "source": [
    "# and more explicitly\n",
    "target[:5] == target_predicted[:5]"
   ]
  },
  {
   "cell_type": "code",
   "execution_count": 19,
   "id": "e06d8518-23be-41df-9335-c4ad596f0744",
   "metadata": {},
   "outputs": [],
   "source": [
    "n_correct = (target[:5] == target_predicted[:5]).sum()"
   ]
  },
  {
   "cell_type": "code",
   "execution_count": 16,
   "id": "11c4b5dc-206d-4809-8f99-7833de754937",
   "metadata": {},
   "outputs": [
    {
     "name": "stdout",
     "output_type": "stream",
     "text": [
      "Number of correct predictions: 4 / 5\n"
     ]
    }
   ],
   "source": [
    "print(f\"Number of correct predictions: {n_correct} / 5\")"
   ]
  },
  {
   "cell_type": "markdown",
   "id": "ceb9961e-0134-4677-ade6-8d7121d48f05",
   "metadata": {},
   "source": [
    "To get a more precise assessment, compute the average success rate"
   ]
  },
  {
   "cell_type": "code",
   "execution_count": 23,
   "id": "3ea8c2bc-f474-4fa0-bbd9-8b7aa41e18c3",
   "metadata": {},
   "outputs": [
    {
     "data": {
      "text/plain": [
       "0.8242776341719346"
      ]
     },
     "execution_count": 23,
     "metadata": {},
     "output_type": "execute_result"
    }
   ],
   "source": [
    "(target == target_predicted).mean()"
   ]
  },
  {
   "cell_type": "markdown",
   "id": "6ef3fe89-9be6-45b8-9c75-d0b8c9f8aef1",
   "metadata": {},
   "source": [
    "Therefore, the model makes a correct prediction for about 82 samples out of 100. How good is this? Can we trust it?"
   ]
  },
  {
   "cell_type": "markdown",
   "id": "81bb31e9-1c1f-4e5a-b70f-33c831906034",
   "metadata": {},
   "source": [
    "### Train-test data split\n",
    "- when building a machine learning model, it is important that we check how well it performs on data it has not seen.\n",
    "- in other words, generalization is more than memorization: a model may be able to perfectly memorize its training data, but this does not imply that it performs equally well on data it has not seen\n",
    "- in general, it is harder to make prediction on never-seen data than it is on data seen before.\n",
    "\n",
    "We can evaluate the model by keeping some of the data out of the training set, and then look at the predictions for these held-out data. -> \"training data\", \"test data\"\n",
    "\n",
    "In the current example, we actually have some data that were left out from the original data set. Let's load them and check predictions."
   ]
  },
  {
   "cell_type": "code",
   "execution_count": 24,
   "id": "0f714715-ef73-4a9e-9b6e-6735864d6861",
   "metadata": {},
   "outputs": [],
   "source": [
    "adult_census_test = pd.read_csv(\"../datasets/adult-census-numeric-test.csv\")"
   ]
  },
  {
   "cell_type": "markdown",
   "id": "19c3547a-b2fe-4f47-850a-1e65b4afed7b",
   "metadata": {},
   "source": [
    "separate again the input features from the target"
   ]
  },
  {
   "cell_type": "code",
   "execution_count": 25,
   "id": "af1758d3-2630-47ef-bbf8-a131b1809a82",
   "metadata": {},
   "outputs": [],
   "source": [
    "target_test = adult_census_test[target_name]\n",
    "data_test = adult_census_test.drop(columns=[target_name])"
   ]
  },
  {
   "cell_type": "code",
   "execution_count": 26,
   "id": "237cad34-e144-47a5-9903-48f0711a111b",
   "metadata": {},
   "outputs": [
    {
     "name": "stdout",
     "output_type": "stream",
     "text": [
      "The testing dataset contains 9769 samples and 4 features.\n"
     ]
    }
   ],
   "source": [
    "nrow_test, ncol_test = data_test.shape\n",
    "print(f\"The testing dataset contains {nrow_test} samples and {ncol_test} features.\")"
   ]
  },
  {
   "cell_type": "markdown",
   "id": "84760170-1302-402c-a822-c74af7a483b4",
   "metadata": {},
   "source": [
    "We can use the `score` method, which does the work of checking the predictions for us. \n",
    "Note that for different classifier, the performance metric may differ."
   ]
  },
  {
   "cell_type": "code",
   "execution_count": 29,
   "id": "4a00354f-e7d6-421f-8815-679bec28ebf0",
   "metadata": {},
   "outputs": [
    {
     "name": "stdout",
     "output_type": "stream",
     "text": [
      "The test accuracy using a KNeighborsClassifier is 0.804\n"
     ]
    }
   ],
   "source": [
    "accuracy = model.score(data_test, target_test)\n",
    "model_name = model.__class__.__name__\n",
    "print(f\"The test accuracy using a {model_name} is {accuracy:.3f}\")"
   ]
  },
  {
   "attachments": {
    "56cc5a6f-303f-43f9-9b3c-d5c5347de02a.png": {
     "image/png": "[encoded data removed]"
    }
   },
   "cell_type": "markdown",
   "id": "02a45d0a-3015-40b4-ae35-ba37b29dce67",
   "metadata": {},
   "source": [
    "### Summarizing\n",
    "\n",
    "The mechanism of the `score` method is illustrated here:\n",
    "\n",
    "![image.png](attachment:56cc5a6f-303f-43f9-9b3c-d5c5347de02a.png)\n",
    "\n",
    "To compute the score:\n",
    "1. the model computes predictions, using `predict` method\n",
    "2. uses a scoring function to compare the true `y` and the predictions\n",
    "3. returns the score\n",
    "\n",
    "(**model** is the generic term used to refer to objects whose goodness of fit can be measures with the `score` method)\n",
    "\n",
    "\n",
    "Above, we saw that the predictiosn on the test set are indeed a bit lower than on the training set (0.80 vs 0.82). It shows how important it is to evaluate a model on data it has not seen before. We will discuss this in more detail later.\n"
   ]
  },
  {
   "cell_type": "markdown",
   "id": "8066fa4c-a030-4e24-bd06-c0842f702676",
   "metadata": {},
   "source": [
    "# Exercise: adapt your own first model\n",
    "\n",
    "The goal of this exercise is to fit a similar model as we just did to get familiar with manipulating scikit-learn objects and in particular the `.fit/.predict/.score` API.\n",
    "\n",
    "Before we used `model = KNeighborsClassifier()`. All scikit-learn models can be created without arguments. This is convenient because it means that you don’t need to understand the full details of a model before starting to use it.\n",
    "\n",
    "One of the KNeighborsClassifier parameters is n_neighbors. It controls the number of neighbors we are going to use to make a prediction for a new data point.\n",
    "\n",
    "#### 1. What is the default value of the n_neighbors parameter? \n",
    "Hint: Look at the documentation on the scikit-learn website or directly access the description inside your notebook by running the following cell. This will open a pager pointing to the documentation.\n",
    "```python\n",
    "from sklearn.neighbors import KNeighborsClassifier\n",
    "\n",
    "KNeighborsClassifier?\n",
    "```\n",
    "\n",
    "#### 2. Create a KNeighborsClassifier model with n_neighbors=50\n",
    "a. Fit this model on the train data and target that we used before\n",
    "b. Use your model to make predictions on the first 10 data points inside the data. Do they match the actual target values?\n",
    "c. Compute the accuracy on the training data.\n",
    "d. Now load the test data from \"../datasets/adult-census-numeric-test.csv\" and compute the accuracy on the test data.\n",
    "\n",
    "#### 3. (Optional) Find the optimal n_neighbors\n",
    "What is the optimal number of neighbors to fit a K-neighbors classifier on this dataset?\n",
    "\n"
   ]
  },
  {
   "cell_type": "code",
   "execution_count": null,
   "id": "1d84f2c6-7955-4a07-933b-1cbcdceb8758",
   "metadata": {},
   "outputs": [],
   "source": []
  },
  {
   "cell_type": "markdown",
   "id": "4898e777-84f0-4e5e-9cef-c22cb8a75005",
   "metadata": {},
   "source": [
    "## Solutions\n",
    "\n",
    "### (1) Default value of n_neighbors"
   ]
  },
  {
   "cell_type": "code",
   "execution_count": 49,
   "id": "3cc24c40-0058-4969-8338-18f795cb4697",
   "metadata": {},
   "outputs": [
    {
     "data": {
      "text/plain": [
       "\u001b[31mInit signature:\u001b[39m\n",
       "KNeighborsClassifier(\n",
       "    n_neighbors=\u001b[32m5\u001b[39m,\n",
       "    *,\n",
       "    weights=\u001b[33m'uniform'\u001b[39m,\n",
       "    algorithm=\u001b[33m'auto'\u001b[39m,\n",
       "    leaf_size=\u001b[32m30\u001b[39m,\n",
       "    p=\u001b[32m2\u001b[39m,\n",
       "    metric=\u001b[33m'minkowski'\u001b[39m,\n",
       "    metric_params=\u001b[38;5;28;01mNone\u001b[39;00m,\n",
       "    n_jobs=\u001b[38;5;28;01mNone\u001b[39;00m,\n",
       ")\n",
       "\u001b[31mDocstring:\u001b[39m     \n",
       "Classifier implementing the k-nearest neighbors vote.\n",
       "\n",
       "Read more in the :ref:`User Guide <classification>`.\n",
       "\n",
       "Parameters\n",
       "----------\n",
       "n_neighbors : int, default=5\n",
       "    Number of neighbors to use by default for :meth:`kneighbors` queries.\n",
       "\n",
       "weights : {'uniform', 'distance'}, callable or None, default='uniform'\n",
       "    Weight function used in prediction.  Possible values:\n",
       "\n",
       "    - 'uniform' : uniform weights.  All points in each neighborhood\n",
       "      are weighted equally.\n",
       "    - 'distance' : weight points by the inverse of their distance.\n",
       "      in this case, closer neighbors of a query point will have a\n",
       "      greater influence than neighbors which are further away.\n",
       "    - [callable] : a user-defined function which accepts an\n",
       "      array of distances, and returns an array of the same shape\n",
       "      containing the weights.\n",
       "\n",
       "    Refer to the example entitled\n",
       "    :ref:`sphx_glr_auto_examples_neighbors_plot_classification.py`\n",
       "    showing the impact of the `weights` parameter on the decision\n",
       "    boundary.\n",
       "\n",
       "algorithm : {'auto', 'ball_tree', 'kd_tree', 'brute'}, default='auto'\n",
       "    Algorithm used to compute the nearest neighbors:\n",
       "\n",
       "    - 'ball_tree' will use :class:`BallTree`\n",
       "    - 'kd_tree' will use :class:`KDTree`\n",
       "    - 'brute' will use a brute-force search.\n",
       "    - 'auto' will attempt to decide the most appropriate algorithm\n",
       "      based on the values passed to :meth:`fit` method.\n",
       "\n",
       "    Note: fitting on sparse input will override the setting of\n",
       "    this parameter, using brute force.\n",
       "\n",
       "leaf_size : int, default=30\n",
       "    Leaf size passed to BallTree or KDTree.  This can affect the\n",
       "    speed of the construction and query, as well as the memory\n",
       "    required to store the tree.  The optimal value depends on the\n",
       "    nature of the problem.\n",
       "\n",
       "p : float, default=2\n",
       "    Power parameter for the Minkowski metric. When p = 1, this is equivalent\n",
       "    to using manhattan_distance (l1), and euclidean_distance (l2) for p = 2.\n",
       "    For arbitrary p, minkowski_distance (l_p) is used. This parameter is expected\n",
       "    to be positive.\n",
       "\n",
       "metric : str or callable, default='minkowski'\n",
       "    Metric to use for distance computation. Default is \"minkowski\", which\n",
       "    results in the standard Euclidean distance when p = 2. See the\n",
       "    documentation of `scipy.spatial.distance\n",
       "    <https://docs.scipy.org/doc/scipy/reference/spatial.distance.html>`_ and\n",
       "    the metrics listed in\n",
       "    :class:`~sklearn.metrics.pairwise.distance_metrics` for valid metric\n",
       "    values.\n",
       "\n",
       "    If metric is \"precomputed\", X is assumed to be a distance matrix and\n",
       "    must be square during fit. X may be a :term:`sparse graph`, in which\n",
       "    case only \"nonzero\" elements may be considered neighbors.\n",
       "\n",
       "    If metric is a callable function, it takes two arrays representing 1D\n",
       "    vectors as inputs and must return one value indicating the distance\n",
       "    between those vectors. This works for Scipy's metrics, but is less\n",
       "    efficient than passing the metric name as a string.\n",
       "\n",
       "metric_params : dict, default=None\n",
       "    Additional keyword arguments for the metric function.\n",
       "\n",
       "n_jobs : int, default=None\n",
       "    The number of parallel jobs to run for neighbors search.\n",
       "    ``None`` means 1 unless in a :obj:`joblib.parallel_backend` context.\n",
       "    ``-1`` means using all processors. See :term:`Glossary <n_jobs>`\n",
       "    for more details.\n",
       "    Doesn't affect :meth:`fit` method.\n",
       "\n",
       "Attributes\n",
       "----------\n",
       "classes_ : array of shape (n_classes,)\n",
       "    Class labels known to the classifier\n",
       "\n",
       "effective_metric_ : str or callble\n",
       "    The distance metric used. It will be same as the `metric` parameter\n",
       "    or a synonym of it, e.g. 'euclidean' if the `metric` parameter set to\n",
       "    'minkowski' and `p` parameter set to 2.\n",
       "\n",
       "effective_metric_params_ : dict\n",
       "    Additional keyword arguments for the metric function. For most metrics\n",
       "    will be same with `metric_params` parameter, but may also contain the\n",
       "    `p` parameter value if the `effective_metric_` attribute is set to\n",
       "    'minkowski'.\n",
       "\n",
       "n_features_in_ : int\n",
       "    Number of features seen during :term:`fit`.\n",
       "\n",
       "    .. versionadded:: 0.24\n",
       "\n",
       "feature_names_in_ : ndarray of shape (`n_features_in_`,)\n",
       "    Names of features seen during :term:`fit`. Defined only when `X`\n",
       "    has feature names that are all strings.\n",
       "\n",
       "    .. versionadded:: 1.0\n",
       "\n",
       "n_samples_fit_ : int\n",
       "    Number of samples in the fitted data.\n",
       "\n",
       "outputs_2d_ : bool\n",
       "    False when `y`'s shape is (n_samples, ) or (n_samples, 1) during fit\n",
       "    otherwise True.\n",
       "\n",
       "See Also\n",
       "--------\n",
       "RadiusNeighborsClassifier: Classifier based on neighbors within a fixed radius.\n",
       "KNeighborsRegressor: Regression based on k-nearest neighbors.\n",
       "RadiusNeighborsRegressor: Regression based on neighbors within a fixed radius.\n",
       "NearestNeighbors: Unsupervised learner for implementing neighbor searches.\n",
       "\n",
       "Notes\n",
       "-----\n",
       "See :ref:`Nearest Neighbors <neighbors>` in the online documentation\n",
       "for a discussion of the choice of ``algorithm`` and ``leaf_size``.\n",
       "\n",
       ".. warning::\n",
       "\n",
       "   Regarding the Nearest Neighbors algorithms, if it is found that two\n",
       "   neighbors, neighbor `k+1` and `k`, have identical distances\n",
       "   but different labels, the results will depend on the ordering of the\n",
       "   training data.\n",
       "\n",
       "https://en.wikipedia.org/wiki/K-nearest_neighbor_algorithm\n",
       "\n",
       "Examples\n",
       "--------\n",
       ">>> X = [[0], [1], [2], [3]]\n",
       ">>> y = [0, 0, 1, 1]\n",
       ">>> from sklearn.neighbors import KNeighborsClassifier\n",
       ">>> neigh = KNeighborsClassifier(n_neighbors=3)\n",
       ">>> neigh.fit(X, y)\n",
       "KNeighborsClassifier(...)\n",
       ">>> print(neigh.predict([[1.1]]))\n",
       "[0]\n",
       ">>> print(neigh.predict_proba([[0.9]]))\n",
       "[[0.666 0.333]]\n",
       "\u001b[31mFile:\u001b[39m           ~/repositories/teaching/sicss-2025/teaching-notebooks/ml_workshop/lib/python3.12/site-packages/sklearn/neighbors/_classification.py\n",
       "\u001b[31mType:\u001b[39m           ABCMeta\n",
       "\u001b[31mSubclasses:\u001b[39m     "
      ]
     },
     "metadata": {},
     "output_type": "display_data"
    }
   ],
   "source": [
    "from sklearn.neighbors import KNeighborsClassifier\n",
    "KNeighborsClassifier?"
   ]
  },
  {
   "cell_type": "markdown",
   "id": "01d43196-6ea6-47bf-a96a-813bf80340ef",
   "metadata": {},
   "source": [
    "**Solution: 5**"
   ]
  },
  {
   "cell_type": "markdown",
   "id": "cd35cfbe-92e6-47ff-a97f-c05d46b6e2a1",
   "metadata": {},
   "source": [
    "### (2) Create KNeighborsClassifier with n_neighbors=50"
   ]
  },
  {
   "cell_type": "code",
   "execution_count": 50,
   "id": "1f7c1ffe-d44f-4762-bbf3-89289c1bf77f",
   "metadata": {},
   "outputs": [],
   "source": [
    "model = KNeighborsClassifier(n_neighbors=50)"
   ]
  },
  {
   "cell_type": "code",
   "execution_count": 51,
   "id": "ebbab49a-eaab-46c2-9ef5-e12b2e4f727a",
   "metadata": {},
   "outputs": [],
   "source": [
    "_ = model.fit(data, target)"
   ]
  },
  {
   "cell_type": "code",
   "execution_count": 52,
   "id": "1b0a1d46-ce34-44d3-a321-a9f069763490",
   "metadata": {},
   "outputs": [],
   "source": [
    "predictions_in = model.predict(data)"
   ]
  },
  {
   "cell_type": "code",
   "execution_count": 53,
   "id": "48f00d24-9081-4cd3-8ca6-b4ee51260698",
   "metadata": {},
   "outputs": [
    {
     "data": {
      "text/plain": [
       "0     True\n",
       "1     True\n",
       "2     True\n",
       "3     True\n",
       "4     True\n",
       "5     True\n",
       "6     True\n",
       "7     True\n",
       "8     True\n",
       "9    False\n",
       "Name: class, dtype: bool"
      ]
     },
     "execution_count": 53,
     "metadata": {},
     "output_type": "execute_result"
    }
   ],
   "source": [
    "predictions_in[:10] == target[:10]"
   ]
  },
  {
   "cell_type": "code",
   "execution_count": 54,
   "id": "a3f4be8e-d401-45e9-bbd1-3ecc3264f238",
   "metadata": {},
   "outputs": [
    {
     "name": "stdout",
     "output_type": "stream",
     "text": [
      "Accuracy on training set: 0.829\n"
     ]
    }
   ],
   "source": [
    "accuracy_train = model.score(data, target)\n",
    "print(f\"Accuracy on training set: {accuracy_train:.3f}\")"
   ]
  },
  {
   "cell_type": "code",
   "execution_count": 55,
   "id": "f821ee3d-e5f4-4e6f-b535-c47da3750847",
   "metadata": {},
   "outputs": [],
   "source": [
    "accuracy_test = model.score(data_test, target_test)"
   ]
  },
  {
   "cell_type": "code",
   "execution_count": 57,
   "id": "0938b7d2-2dd3-46ce-92b1-e41857d01770",
   "metadata": {},
   "outputs": [
    {
     "name": "stdout",
     "output_type": "stream",
     "text": [
      "Accuracy on test set: 0.818\n"
     ]
    }
   ],
   "source": [
    "print(f\"Accuracy on test set: {accuracy_test:.3f}\")"
   ]
  },
  {
   "cell_type": "code",
   "execution_count": null,
   "id": "c06fd9b1-1663-4028-9e32-676a7bc019c8",
   "metadata": {},
   "outputs": [],
   "source": []
  },
  {
   "cell_type": "markdown",
   "id": "860b1aa3-da91-4856-bcf7-5340f92e9fa5",
   "metadata": {},
   "source": [
    "### Intuitions on linear models\n",
    "https://esciencecenter-digital-skills.github.io/scikit-learn-mooc/linear_models/linear_models_slides.html\n",
    "\n",
    "logistic regression\n",
    "- line is a probability that y=1\n",
    "- discuss confidence along the line\n",
    "- linear model: internally it takes a linear combination of (input features * coefficients). *linear in parameters*, ie cannot have `a*b`\n",
    "- the combination is then a probability between 0 and 1.\n",
    "\n",
    "2-dim logistic regression:\n",
    "- stronger lines -> probability closer to 0 or 1\n",
    "- weaker lines -> probs closer to 0.5\n",
    "- *linear* line -> linear separation boundary; in other words, takes linear combination of input features * parameters\n",
    "\n",
    "multi-class prediction\n",
    "- straight lines -> from linear model\n",
    "- but why are there kinks?\n",
    "\n",
    "linear models not suited to all data\n",
    "- not always linearly separable in the input space\n",
    "- if not: if we want to keep using a linear model, we need to find new features, and hope that the data become linearly separably in the new input space.\n",
    "- example: completely new feature, or a transformation of the original features (square or similar) -> in 2d, the function may not appear linear anymore, but it's still a linear model. intuitively: (i) in higher-dimensional input space, it's still linear. (ii) linear in parameters.\n",
    "\n",
    "take-home\n",
    "- simple and fast baselines; easy to set up; easy to interpret\n",
    "- can underfit -> feature engineering\n",
    "- with a lot of features, linear models are hard to beat"
   ]
  },
  {
   "cell_type": "code",
   "execution_count": null,
   "id": "3b1277a8-5966-470c-8ea2-e84e4e621463",
   "metadata": {},
   "outputs": [],
   "source": []
  },
  {
   "cell_type": "code",
   "execution_count": null,
   "id": "013ca650-2cda-4574-b841-2f0f423d662f",
   "metadata": {},
   "outputs": [],
   "source": []
  },
  {
   "cell_type": "code",
   "execution_count": null,
   "id": "1fa4f6d9-7a6f-407d-8cc6-c22548a6c832",
   "metadata": {},
   "outputs": [],
   "source": []
  }
 ],
 "metadata": {
  "kernelspec": {
   "display_name": "Python 3 (ipykernel)",
   "language": "python",
   "name": "python3"
  },
  "language_info": {
   "codemirror_mode": {
    "name": "ipython",
    "version": 3
   },
   "file_extension": ".py",
   "mimetype": "text/x-python",
   "name": "python",
   "nbconvert_exporter": "python",
   "pygments_lexer": "ipython3",
   "version": "3.12.8"
  }
 },
 "nbformat": 4,
 "nbformat_minor": 5
}
