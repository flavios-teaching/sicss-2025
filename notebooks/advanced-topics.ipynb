{
 "cells": [
  {
   "cell_type": "markdown",
   "id": "de574b3e-a4a3-4e80-8865-b8f9741dc90e",
   "metadata": {},
   "source": [
    "# Advanced topics\n",
    "\n",
    "https://esciencecenter-digital-skills.github.io/scikit-learn-mooc/advanced_topics/advanced_topics_slides.html"
   ]
  },
  {
   "cell_type": "code",
   "execution_count": 2,
   "id": "5611aa1e-e38b-4d88-9c42-574a5be92525",
   "metadata": {},
   "outputs": [],
   "source": [
    "from sklearn.feature_selection import SelectKBest"
   ]
  },
  {
   "cell_type": "code",
   "execution_count": 3,
   "id": "bece33c7-6056-4bb3-8355-9f97988b141e",
   "metadata": {},
   "outputs": [
    {
     "data": {
      "text/plain": [
       "\u001b[31mInit signature:\u001b[39m SelectKBest(score_func=<function f_classif at \u001b[32m0x76b577900400\u001b[39m>, *, k=\u001b[32m10\u001b[39m)\n",
       "\u001b[31mDocstring:\u001b[39m     \n",
       "Select features according to the k highest scores.\n",
       "\n",
       "Read more in the :ref:`User Guide <univariate_feature_selection>`.\n",
       "\n",
       "Parameters\n",
       "----------\n",
       "score_func : callable, default=f_classif\n",
       "    Function taking two arrays X and y, and returning a pair of arrays\n",
       "    (scores, pvalues) or a single array with scores.\n",
       "    Default is f_classif (see below \"See Also\"). The default function only\n",
       "    works with classification tasks.\n",
       "\n",
       "    .. versionadded:: 0.18\n",
       "\n",
       "k : int or \"all\", default=10\n",
       "    Number of top features to select.\n",
       "    The \"all\" option bypasses selection, for use in a parameter search.\n",
       "\n",
       "Attributes\n",
       "----------\n",
       "scores_ : array-like of shape (n_features,)\n",
       "    Scores of features.\n",
       "\n",
       "pvalues_ : array-like of shape (n_features,)\n",
       "    p-values of feature scores, None if `score_func` returned only scores.\n",
       "\n",
       "n_features_in_ : int\n",
       "    Number of features seen during :term:`fit`.\n",
       "\n",
       "    .. versionadded:: 0.24\n",
       "\n",
       "feature_names_in_ : ndarray of shape (`n_features_in_`,)\n",
       "    Names of features seen during :term:`fit`. Defined only when `X`\n",
       "    has feature names that are all strings.\n",
       "\n",
       "    .. versionadded:: 1.0\n",
       "\n",
       "See Also\n",
       "--------\n",
       "f_classif: ANOVA F-value between label/feature for classification tasks.\n",
       "mutual_info_classif: Mutual information for a discrete target.\n",
       "chi2: Chi-squared stats of non-negative features for classification tasks.\n",
       "f_regression: F-value between label/feature for regression tasks.\n",
       "mutual_info_regression: Mutual information for a continuous target.\n",
       "SelectPercentile: Select features based on percentile of the highest\n",
       "    scores.\n",
       "SelectFpr : Select features based on a false positive rate test.\n",
       "SelectFdr : Select features based on an estimated false discovery rate.\n",
       "SelectFwe : Select features based on family-wise error rate.\n",
       "GenericUnivariateSelect : Univariate feature selector with configurable\n",
       "    mode.\n",
       "\n",
       "Notes\n",
       "-----\n",
       "Ties between features with equal scores will be broken in an unspecified\n",
       "way.\n",
       "\n",
       "This filter supports unsupervised feature selection that only requests `X` for\n",
       "computing the scores.\n",
       "\n",
       "Examples\n",
       "--------\n",
       ">>> from sklearn.datasets import load_digits\n",
       ">>> from sklearn.feature_selection import SelectKBest, chi2\n",
       ">>> X, y = load_digits(return_X_y=True)\n",
       ">>> X.shape\n",
       "(1797, 64)\n",
       ">>> X_new = SelectKBest(chi2, k=20).fit_transform(X, y)\n",
       ">>> X_new.shape\n",
       "(1797, 20)\n",
       "\u001b[31mFile:\u001b[39m           ~/repositories/teaching/sicss-2025/teaching-notebooks/ml_workshop/lib/python3.12/site-packages/sklearn/feature_selection/_univariate_selection.py\n",
       "\u001b[31mType:\u001b[39m           ABCMeta\n",
       "\u001b[31mSubclasses:\u001b[39m     "
      ]
     },
     "metadata": {},
     "output_type": "display_data"
    }
   ],
   "source": [
    "SelectKBest?"
   ]
  },
  {
   "cell_type": "code",
   "execution_count": null,
   "id": "d38832c5-922a-4aff-aa84-b3688a3fe682",
   "metadata": {},
   "outputs": [],
   "source": []
  }
 ],
 "metadata": {
  "kernelspec": {
   "display_name": "Python 3 (ipykernel)",
   "language": "python",
   "name": "python3"
  },
  "language_info": {
   "codemirror_mode": {
    "name": "ipython",
    "version": 3
   },
   "file_extension": ".py",
   "mimetype": "text/x-python",
   "name": "python",
   "nbconvert_exporter": "python",
   "pygments_lexer": "ipython3",
   "version": "3.12.8"
  }
 },
 "nbformat": 4,
 "nbformat_minor": 5
}
