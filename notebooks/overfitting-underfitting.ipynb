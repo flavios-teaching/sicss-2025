{
 "cells": [
  {
   "cell_type": "markdown",
   "id": "8dabcd42-9256-47cb-b14e-04d82a28c908",
   "metadata": {},
   "source": [
    "# Selecting the best model\n",
    "\n",
    "## Overfitting and underfitting\n",
    "https://esciencecenter-digital-skills.github.io/scikit-learn-mooc/overfit/overfitting_vs_under_fitting_slides.html\n",
    "\n",
    "which data to you prefer?\n",
    "- important to understand when a model generalizes well on unseen data\n",
    "- polynomial fct perfectly predicts training set\n",
    "- why would you prefer the straight line? how do we judge this?\n",
    "- by looking at test set -> orange points.\n",
    "- linear curve: similar errors on train and test. polynomial: much larger error on test, no error on train. also, predictions *outside* the range of test data\n",
    "\n",
    "a harder example\n",
    "- less obvious!\n",
    "- model complexity: data generating process. generate X, transform with 9th-degree polynomial, add noise\n",
    "- we don't know this process! we only see the observations\n",
    "- -> let's fit models with different polynomial degrees\n",
    "- poly 9 -> does not match closely the gnerative process (in dashed line)\n",
    "- reason: too complex for the amount of data. even though it is the \"ideal\" model (reflecting the generative process), its flexibility captures noise\n",
    "- **overfitting happens when we have not enough data points relative to the noise**\n",
    "- **underfitting happens when we have relatively much data compared to the noise** the model is too constrained.\n",
    "\n",
    "\n"
   ]
  },
  {
   "cell_type": "markdown",
   "id": "7dea205e-88f7-43e2-9f61-425cdd7d45f5",
   "metadata": {},
   "source": [
    "\n",
    "# Exercise: overfitting and underfitting\n",
    "\n",
    "#### 1: A model that is underfitting:\n",
    "\n",
    "a) is too complex and thus highly flexible\n",
    "b) is too constrained and thus limited by its expressivity\n",
    "c) often makes prediction errors, even on training samples\n",
    "d) focuses too much on noisy details of the training set\n",
    "\n",
    "Select all answers that apply\n",
    "(b), (c)\n",
    "\n",
    "#### 2: A model that is overfitting:\n",
    "\n",
    "a) is too complex and thus highly flexible\n",
    "b) is too constrained and thus limited by its expressivity\n",
    "c) often makes prediction errors, even on training samples\n",
    "d) focuses too much on noisy details of the training set\n",
    "\n",
    "Select all answers that apply\n",
    "\n",
    "(a), (d)"
   ]
  },
  {
   "cell_type": "code",
   "execution_count": null,
   "id": "9332ae77-5a9e-44c1-97e8-485bc1247bb9",
   "metadata": {},
   "outputs": [],
   "source": []
  },
  {
   "cell_type": "code",
   "execution_count": null,
   "id": "6eee10c1-5aca-4de9-8fcc-77fc81284279",
   "metadata": {},
   "outputs": [],
   "source": []
  },
  {
   "cell_type": "code",
   "execution_count": null,
   "id": "f43bf0b7-8e6e-4323-aa93-9259646676e4",
   "metadata": {},
   "outputs": [],
   "source": []
  }
 ],
 "metadata": {
  "kernelspec": {
   "display_name": "Python 3 (ipykernel)",
   "language": "python",
   "name": "python3"
  },
  "language_info": {
   "codemirror_mode": {
    "name": "ipython",
    "version": 3
   },
   "file_extension": ".py",
   "mimetype": "text/x-python",
   "name": "python",
   "nbconvert_exporter": "python",
   "pygments_lexer": "ipython3",
   "version": "3.12.8"
  }
 },
 "nbformat": 4,
 "nbformat_minor": 5
}
