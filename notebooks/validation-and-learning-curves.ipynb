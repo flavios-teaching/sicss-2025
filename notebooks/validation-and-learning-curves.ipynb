{
 "cells": [
  {
   "cell_type": "markdown",
   "id": "cba025b9-90b7-4098-8418-325e49a0d2f6",
   "metadata": {},
   "source": [
    "# Comparing train and test errors\n",
    "\n",
    "https://esciencecenter-digital-skills.github.io/scikit-learn-mooc/overfit/learning_validation_curves_slides.html\n",
    "\n",
    "\n"
   ]
  },
  {
   "cell_type": "markdown",
   "id": "357b827a-2c91-485b-8ef2-8eeb33c4d117",
   "metadata": {},
   "source": [
    "## quantify trade-off between over- and underfitting by comparing train and test errors\n",
    "- validation curves -> varying complexity\n",
    "- learning curves -> varying sample size\n",
    "\n",
    "train vs test error: increasing complexity\n",
    "- degree 2 poly -> train and test error goes down. fits both sets fine\n",
    "- degree 5 poly -> train error still decreases, but test error increases. memorizes noise (for instance at the very right of the figure)\n",
    "- degree 9 poly -> memorization gets extreme\n",
    "\n",
    "learning curvies: varying sample size\n",
    "- fix parameters of the model, and vary the sample size\n",
    "- degree 9 poly from before\n",
    "- with small data set, big gap between train and test error\n",
    "- with larger sample, teh function get smoother -- the noise is smoothed out\n",
    "- if we have enough samples, train and test errors converge. in this case, this is the case because the degree 9 poly is the correct data generating process.\n",
    "- in general, there are decreasing returns to sample size: irreducible error (holding N params fixed!!)\n",
    "\n",
    "*complexity* is captured through different parameters in different families\n",
    "- polynomial vs decision tree\n",
    "- different \"inductive bias\": shape of the prediction function that one model favors vs another shape. example: tree is piecewise linear, polynomial is smoother (no kinks).\n",
    "- for many families, we can go from complex to simpler variants. this is called regularization."
   ]
  },
  {
   "cell_type": "markdown",
   "id": "1448f6cb-055f-4d89-8191-38901912b8fa",
   "metadata": {},
   "source": [
    "# Exercise: Validation and learning curves\n",
    "\n",
    "#### Train and test SVM classifier (15 min,  2 people) \n",
    "\n",
    "The aim of this exercise is to:\n",
    "* train and test a support vector machine classifier through cross-validation;\n",
    "* study the effect of the parameter gamma (one of the parameters controlling under/over-fitting in SVM) using a validation curve;\n",
    "* determine the usefulness of adding new samples in the dataset when building a classifier using a learning curve. \n",
    "\n",
    "We will use blood transfusion dataset located in `../datasets/blood_transfusion.csv`. First take a data exploration to get familiar with the data.\n",
    "\n",
    "You can then start off by creating a predictive pipeline made of:\n",
    "\n",
    "* a [`sklearn.preprocessing.StandardScaler`](https://scikit-learn.org/stable/modules/generated/sklearn.preprocessing.StandardScaler.html) with default parameter;\n",
    "* a [`sklearn.svm.SVC`](https://scikit-learn.org/stable/modules/generated/sklearn.svm.SVC.html)\n",
    "\n",
    "Script below will help you get started:\n",
    "\n",
    "```python=\n",
    "from sklearn.pipeline import make_pipeline\n",
    "from sklearn.preprocessing import StandardScaler\n",
    "from sklearn.svm import SVC\n",
    "\n",
    "model = make_pipeline(StandardScaler(), SVC())\n",
    "```\n",
    "\n",
    "You can vary gamma between 10e-3 and 10e2 by generating samples on a logarithmic scale with the help of\n",
    "\n",
    "```python=\n",
    "gammas = np.logspace(-3, 2, num=30)\n",
    "param_name = \"svc__gamma\"\n",
    "```\n",
    "\n",
    "To manipulate training size you could use:\n",
    "\n",
    "```python=\n",
    "train_sizes = np.linspace(0.1, 1, num=10)\n",
    "```\n"
   ]
  },
  {
   "cell_type": "markdown",
   "id": "a88929c0-8576-4543-b8d9-30f3837f7d2f",
   "metadata": {},
   "source": [
    "## Solution\n",
    "\n",
    "SVM is similar to logistic regression. Flexibilty increases in the kernal size that makes the model non-linear."
   ]
  },
  {
   "cell_type": "code",
   "execution_count": 17,
   "id": "c86bbea3-516d-4142-9b0c-d5213147874a",
   "metadata": {},
   "outputs": [],
   "source": [
    "import pandas as pd\n",
    "import numpy as np\n",
    "np.set_printoptions(legacy='1.25')\n",
    "\n",
    "blood_transfusion = pd.read_csv(\"../datasets/blood_transfusion.csv\")\n",
    "data = blood_transfusion.drop(columns=\"Class\")\n",
    "target = blood_transfusion[\"Class\"]"
   ]
  },
  {
   "cell_type": "code",
   "execution_count": 18,
   "id": "28f8e279-46e4-4a45-b192-2215c3b483ca",
   "metadata": {},
   "outputs": [],
   "source": [
    "from sklearn.pipeline import make_pipeline\n",
    "from sklearn.preprocessing import StandardScaler\n",
    "from sklearn.svm import SVC\n",
    "\n",
    "model = make_pipeline(StandardScaler(), SVC())"
   ]
  },
  {
   "cell_type": "code",
   "execution_count": 19,
   "id": "0e882703-a85c-49ce-84f0-fd74f7afbe23",
   "metadata": {},
   "outputs": [],
   "source": [
    "gammas = np.logspace(-3, 2, num=30)\n",
    "param_name = \"svc__gamma\""
   ]
  },
  {
   "cell_type": "code",
   "execution_count": 28,
   "id": "90389f97-f865-4332-b04c-3828b1957587",
   "metadata": {},
   "outputs": [],
   "source": [
    "train_sizes = np.linspace(0.1, 1, num=10)\n"
   ]
  },
  {
   "cell_type": "markdown",
   "id": "9d730988-6be7-4d13-b6fe-04a72f7c0522",
   "metadata": {},
   "source": [
    "Short look at the dataset - normally we should do this more systematically"
   ]
  },
  {
   "cell_type": "code",
   "execution_count": 39,
   "id": "5ff3e482-1d8d-4b67-bd8c-23c288c20e07",
   "metadata": {},
   "outputs": [
    {
     "data": {
      "text/html": [
       "<div>\n",
       "<style scoped>\n",
       "    .dataframe tbody tr th:only-of-type {\n",
       "        vertical-align: middle;\n",
       "    }\n",
       "\n",
       "    .dataframe tbody tr th {\n",
       "        vertical-align: top;\n",
       "    }\n",
       "\n",
       "    .dataframe thead th {\n",
       "        text-align: right;\n",
       "    }\n",
       "</style>\n",
       "<table border=\"1\" class=\"dataframe\">\n",
       "  <thead>\n",
       "    <tr style=\"text-align: right;\">\n",
       "      <th></th>\n",
       "      <th>Recency</th>\n",
       "      <th>Frequency</th>\n",
       "      <th>Monetary</th>\n",
       "      <th>Time</th>\n",
       "    </tr>\n",
       "  </thead>\n",
       "  <tbody>\n",
       "    <tr>\n",
       "      <th>count</th>\n",
       "      <td>748.000000</td>\n",
       "      <td>748.000000</td>\n",
       "      <td>748.000000</td>\n",
       "      <td>748.000000</td>\n",
       "    </tr>\n",
       "    <tr>\n",
       "      <th>mean</th>\n",
       "      <td>9.506684</td>\n",
       "      <td>5.514706</td>\n",
       "      <td>1378.676471</td>\n",
       "      <td>34.282086</td>\n",
       "    </tr>\n",
       "    <tr>\n",
       "      <th>std</th>\n",
       "      <td>8.095396</td>\n",
       "      <td>5.839307</td>\n",
       "      <td>1459.826781</td>\n",
       "      <td>24.376714</td>\n",
       "    </tr>\n",
       "    <tr>\n",
       "      <th>min</th>\n",
       "      <td>0.000000</td>\n",
       "      <td>1.000000</td>\n",
       "      <td>250.000000</td>\n",
       "      <td>2.000000</td>\n",
       "    </tr>\n",
       "    <tr>\n",
       "      <th>25%</th>\n",
       "      <td>2.750000</td>\n",
       "      <td>2.000000</td>\n",
       "      <td>500.000000</td>\n",
       "      <td>16.000000</td>\n",
       "    </tr>\n",
       "    <tr>\n",
       "      <th>50%</th>\n",
       "      <td>7.000000</td>\n",
       "      <td>4.000000</td>\n",
       "      <td>1000.000000</td>\n",
       "      <td>28.000000</td>\n",
       "    </tr>\n",
       "    <tr>\n",
       "      <th>75%</th>\n",
       "      <td>14.000000</td>\n",
       "      <td>7.000000</td>\n",
       "      <td>1750.000000</td>\n",
       "      <td>50.000000</td>\n",
       "    </tr>\n",
       "    <tr>\n",
       "      <th>max</th>\n",
       "      <td>74.000000</td>\n",
       "      <td>50.000000</td>\n",
       "      <td>12500.000000</td>\n",
       "      <td>98.000000</td>\n",
       "    </tr>\n",
       "  </tbody>\n",
       "</table>\n",
       "</div>"
      ],
      "text/plain": [
       "          Recency   Frequency      Monetary        Time\n",
       "count  748.000000  748.000000    748.000000  748.000000\n",
       "mean     9.506684    5.514706   1378.676471   34.282086\n",
       "std      8.095396    5.839307   1459.826781   24.376714\n",
       "min      0.000000    1.000000    250.000000    2.000000\n",
       "25%      2.750000    2.000000    500.000000   16.000000\n",
       "50%      7.000000    4.000000   1000.000000   28.000000\n",
       "75%     14.000000    7.000000   1750.000000   50.000000\n",
       "max     74.000000   50.000000  12500.000000   98.000000"
      ]
     },
     "execution_count": 39,
     "metadata": {},
     "output_type": "execute_result"
    }
   ],
   "source": [
    "data.describe()"
   ]
  },
  {
   "cell_type": "code",
   "execution_count": 40,
   "id": "6c584f3b-93c6-47f5-be6c-8484d547dc38",
   "metadata": {},
   "outputs": [
    {
     "data": {
      "text/plain": [
       "count             748\n",
       "unique              2\n",
       "top       not donated\n",
       "freq              570\n",
       "Name: Class, dtype: object"
      ]
     },
     "execution_count": 40,
     "metadata": {},
     "output_type": "execute_result"
    }
   ],
   "source": [
    "target.describe()"
   ]
  },
  {
   "cell_type": "markdown",
   "id": "9d1fc1a1-470f-47e4-aecc-749bf0dfe933",
   "metadata": {},
   "source": [
    "### (1) simple training/evaluation run"
   ]
  },
  {
   "cell_type": "code",
   "execution_count": 36,
   "id": "a986e919-5c53-4288-a697-9728b3672c79",
   "metadata": {},
   "outputs": [
    {
     "data": {
      "text/plain": [
       "0.7653333333333334"
      ]
     },
     "execution_count": 36,
     "metadata": {},
     "output_type": "execute_result"
    }
   ],
   "source": [
    "from sklearn.model_selection import cross_validate, ShuffleSplit\n",
    "\n",
    "# use shuffle split for lower errors in the figures\n",
    "cv = ShuffleSplit(random_state=0)\n",
    "cv_result = cross_validate(model, data, target, cv=cv)\n",
    "cv_result[\"test_score\"].mean()"
   ]
  },
  {
   "cell_type": "markdown",
   "id": "f7dd5c56-a436-4fab-8264-022f11b0c7ec",
   "metadata": {},
   "source": [
    "### (2) validation curve: effect of flexibility"
   ]
  },
  {
   "cell_type": "code",
   "execution_count": 37,
   "id": "25212399-cb82-4b37-a5fd-278b92b27e71",
   "metadata": {},
   "outputs": [
    {
     "data": {
      "image/png": "[encoded data removed]",
      "text/plain": [
       "<Figure size 640x480 with 1 Axes>"
      ]
     },
     "metadata": {},
     "output_type": "display_data"
    }
   ],
   "source": [
    "# solution\n",
    "import numpy as np\n",
    "\n",
    "from sklearn.model_selection import ValidationCurveDisplay\n",
    "\n",
    "gammas = np.logspace(-3, 2, num=30)\n",
    "param_name = \"svc__gamma\"\n",
    "disp = ValidationCurveDisplay.from_estimator(\n",
    "    model,\n",
    "    data,\n",
    "    target,\n",
    "    param_name=param_name,\n",
    "    param_range=gammas,\n",
    "    cv=cv,\n",
    "    scoring=\"accuracy\",  # this is already the default for classifiers\n",
    "    score_name=\"Accuracy\",\n",
    "    std_display_style=\"errorbar\",\n",
    "    errorbar_kw={\"alpha\": 0.7},  # transparency for better visualization\n",
    "    n_jobs=2,\n",
    ")\n",
    "\n",
    "_ = disp.ax_.set(\n",
    "    xlabel=r\"Value of hyperparameter $\\gamma$\",\n",
    "    title=\"Validation curve of support vector machine\",\n",
    ")"
   ]
  },
  {
   "cell_type": "markdown",
   "id": "949e438c-7efe-4af2-95e9-032c88f8aa32",
   "metadata": {},
   "source": [
    "Results\n",
    "- test accuracy starts decreasing aroudn $gamma>1$: overfitting\n",
    "- before, no clearly \"best\" flexibility; test error flat"
   ]
  },
  {
   "cell_type": "code",
   "execution_count": 38,
   "id": "08d25eb3-84ae-45d5-8729-cd389fbc447e",
   "metadata": {},
   "outputs": [
    {
     "data": {
      "image/png": "[encoded data removed]",
      "text/plain": [
       "<Figure size 640x480 with 1 Axes>"
      ]
     },
     "metadata": {},
     "output_type": "display_data"
    }
   ],
   "source": [
    "# solution\n",
    "from sklearn.model_selection import LearningCurveDisplay\n",
    "\n",
    "LearningCurveDisplay.from_estimator(\n",
    "    model,\n",
    "    data,\n",
    "    target,\n",
    "    train_sizes=train_sizes,\n",
    "    cv=cv,\n",
    "    score_type=\"both\",\n",
    "    scoring=\"accuracy\",  # this is already the default for classifiers\n",
    "    score_name=\"Accuracy\",\n",
    "    std_display_style=\"errorbar\",\n",
    "    errorbar_kw={\"alpha\": 0.7},  # transparency for better visualization\n",
    "    n_jobs=2,\n",
    ")\n",
    "\n",
    "_ = disp.ax_.set(title=\"Learning curve for support vector machine\")"
   ]
  },
  {
   "cell_type": "markdown",
   "id": "d3e9ee47-92fd-412c-ba6c-bf83eedf87bc",
   "metadata": {},
   "source": [
    "Results\n",
    "- adding new samples does not improve training and testing scores\n",
    "- why? features are useless, or we are using the wrong hyperparameters in the support vector machine"
   ]
  },
  {
   "cell_type": "code",
   "execution_count": null,
   "id": "f56ee25f-8656-4090-94b5-bfc453d87ac3",
   "metadata": {},
   "outputs": [],
   "source": []
  },
  {
   "cell_type": "markdown",
   "id": "36f20d1c-970c-4140-9afb-34fee69b5000",
   "metadata": {},
   "source": [
    "### (3) training curve: effect of sample size"
   ]
  },
  {
   "cell_type": "code",
   "execution_count": null,
   "id": "56aeecc3-eb7e-453e-a7ad-5b0ddb8e4b18",
   "metadata": {},
   "outputs": [],
   "source": []
  },
  {
   "cell_type": "markdown",
   "id": "0506c9b2-b943-4e78-b43b-8942d40b39d4",
   "metadata": {},
   "source": [
    "\n",
    "### Quiz: over- and underfitting and learning curves (5 minutes, in pairs; if time-permitting) [Flavio]\n",
    "\n",
    "\n",
    "**1. A model is overfitting when:**\n",
    "- a) both the train and test errors are high\n",
    "- b) train error is low but test error is high\n",
    "- c) train error is high but the test error is low\n",
    "- d) both train and test errors are low\n",
    "\n",
    "*select a single answer*\n",
    "\n",
    "**2. Assuming that we have a dataset with little noise, a model is underfitting when:**\n",
    "- a) both the train and test errors are high\n",
    "- b) train error is low but test error is high\n",
    "- c) train error is high but the test error is low\n",
    "- d) both train and test errors are low\n",
    "\n",
    "*select a single answer*\n",
    "\n",
    "\n",
    "**3. For a fixed training set, by sequentially adding parameters to give more flexibility to the model, we are more likely to observe:**\n",
    "- a) a wider difference between train and test errors\n",
    "- b) a reduction in the difference between train and test errors\n",
    "- c) an increased or steady train error\n",
    "- d) a decrease in the train error\n",
    "\n",
    "*Select all answers that apply*\n",
    "\n",
    "**4. For a fixed choice of model parameters, if we increase the number of labeled observations in the training set, are we more likely to observe:**\n",
    "- a) a wider difference between train and test errors\n",
    "- b) a reduction in the difference between train and test errors\n",
    "- c) an increased or steady train error\n",
    "- d) a decrease in the train error\n",
    "\n",
    "*Select all answers that apply*\n",
    "\n",
    "**5. Polynomial models with a high degree parameter:**\n",
    "- a) always have the best test error (but can be slow to train)\n",
    "- b) underfit more than linear regression models\n",
    "- c) get lower training error than lower degree polynomial models\n",
    "- d) are more likely to overfit than lower degree polynomial models\n",
    "\n",
    "*Select all answers that apply*\n",
    "\n",
    "**6. If we chose the parameters of a model to get the best overfitting/underfitting tradeoff, we will always get a zero test error.**\n",
    "- a) True\n",
    "- b) False\n",
    "\n",
    "*Select a single answer*\n"
   ]
  }
 ],
 "metadata": {
  "kernelspec": {
   "display_name": "Python 3 (ipykernel)",
   "language": "python",
   "name": "python3"
  },
  "language_info": {
   "codemirror_mode": {
    "name": "ipython",
    "version": 3
   },
   "file_extension": ".py",
   "mimetype": "text/x-python",
   "name": "python",
   "nbconvert_exporter": "python",
   "pygments_lexer": "ipython3",
   "version": "3.12.8"
  }
 },
 "nbformat": 4,
 "nbformat_minor": 5
}
