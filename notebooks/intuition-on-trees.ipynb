{
 "cells": [
  {
   "cell_type": "code",
   "execution_count": null,
   "id": "37e79a1a-4863-4210-b0d4-cc46b0477f31",
   "metadata": {},
   "outputs": [],
   "source": []
  },
  {
   "cell_type": "markdown",
   "id": "e1e3d911-a737-4fa8-98ac-0277fadf462c",
   "metadata": {},
   "source": [
    "# Decision trees\n",
    "https://esciencecenter-digital-skills.github.io/scikit-learn-mooc/trees/slides.html\n",
    "\n",
    "- root nodes; decision nodes\n",
    "- final nodes = leaves - hold prediction values\n",
    "\n",
    "## Growing trees\n",
    "classification example\n",
    "- split 1 -> threshold on Xo\n",
    "- focus on left/right part. find another optimal decision\n",
    "\n",
    "regression example\n",
    "- x is only input variable -> piecewise linear function\n",
    "- another split etc -> increasingly refined function.\n",
    "- each split introduces new leaf node\n",
    "- in each leaf node, we use the average `y` as the prediction\n",
    "\n",
    "## when to stop? tree depth and overfitting\n",
    "- black dots - test set; grey dots - train set\n",
    "- substantial error in first case. \"underfitting\" -- cannot capture the structure of the data on both the train and test set\n",
    "- more splits - better performance\n",
    "- the more leaves, the more we are fitting to single datapoints. the curve perfectly fits the training data, which is both signal and noise\n",
    "- however, the test error gets larger\n",
    "\n",
    "## take-home messages\n",
    "- trees = sequence of simple decision rules\n",
    "- split data based on threshold\n",
    "- can repeat splitting on and on\n",
    "- we don't need to scale numerical features: we consider one feature at a time\n",
    "- `max_depth` controls the flexibility of the model, or in other words the trade-off between underfitting and overfitting\n",
    "- mostly useful as building block for ensemble models: random forests, gradient boosting trees. alone, trees are too brittle.\n"
   ]
  },
  {
   "cell_type": "code",
   "execution_count": null,
   "id": "a16eb4e3-3358-4cba-b6a5-c778928f84ae",
   "metadata": {},
   "outputs": [],
   "source": []
  }
 ],
 "metadata": {
  "kernelspec": {
   "display_name": "Python 3 (ipykernel)",
   "language": "python",
   "name": "python3"
  },
  "language_info": {
   "codemirror_mode": {
    "name": "ipython",
    "version": 3
   },
   "file_extension": ".py",
   "mimetype": "text/x-python",
   "name": "python",
   "nbconvert_exporter": "python",
   "pygments_lexer": "ipython3",
   "version": "3.12.8"
  }
 },
 "nbformat": 4,
 "nbformat_minor": 5
}
