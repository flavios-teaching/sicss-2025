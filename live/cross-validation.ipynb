{
 "cells": [
  {
   "cell_type": "markdown",
   "id": "d9de7754-4221-4346-82f4-82c57073f3d9",
   "metadata": {},
   "source": [
    "### Model evaluation using cross-validation\n"
   ]
  },
  {
   "cell_type": "code",
   "execution_count": 2,
   "id": "bce8281a-af5c-4dc1-b458-5ed70d96be5c",
   "metadata": {},
   "outputs": [],
   "source": [
    "import pandas as pd\n",
    "import numpy as np\n",
    "np.set_printoptions(legacy='1.25')"
   ]
  },
  {
   "cell_type": "code",
   "execution_count": 3,
   "id": "b8c0c8a1-a42f-42c7-b89e-cdd8b55ac775",
   "metadata": {},
   "outputs": [],
   "source": [
    "adult_census = pd.read_csv(\"../datasets/adult-census.csv\")\n",
    "target_name = \"class\"\n",
    "target = adult_census[target_name]\n",
    "data = adult_census.drop(columns=target_name)"
   ]
  },
  {
   "cell_type": "code",
   "execution_count": 4,
   "id": "deab7306-a6b6-4f1c-9916-8bed39e2d3ee",
   "metadata": {},
   "outputs": [],
   "source": [
    "numerical_columns = [\"age\", \"capital-gain\", \"capital-loss\", \"hours-per-week\"]\n",
    "data_numeric = data[numerical_columns]"
   ]
  },
  {
   "cell_type": "code",
   "execution_count": 7,
   "id": "aa3663fa-b2d8-4acb-8196-d90a812994db",
   "metadata": {},
   "outputs": [],
   "source": [
    "# continue here"
   ]
  },
  {
   "cell_type": "code",
   "execution_count": 8,
   "id": "37c1bb16-1aee-458f-ad79-5fb430ab71c4",
   "metadata": {},
   "outputs": [],
   "source": [
    "from sklearn.preprocessing import StandardScaler\n",
    "from sklearn.linear_model import LogisticRegression\n",
    "from sklearn.pipeline import make_pipeline\n"
   ]
  },
  {
   "cell_type": "code",
   "execution_count": 9,
   "id": "c14e80ff-65c4-48e1-89fd-d0540448f35d",
   "metadata": {},
   "outputs": [],
   "source": [
    "model = make_pipeline(StandardScaler(), LogisticRegression())"
   ]
  },
  {
   "attachments": {
    "39088d38-7f1f-443b-8ec3-6f1bb0fc2f1a.png": {
     "image/png": "[encoded data removed]"
    }
   },
   "cell_type": "markdown",
   "id": "cc2f2117-c2ba-4027-992f-a6185c86f308",
   "metadata": {},
   "source": [
    "![image.png](attachment:39088d38-7f1f-443b-8ec3-6f1bb0fc2f1a.png)"
   ]
  },
  {
   "cell_type": "code",
   "execution_count": 10,
   "id": "0bc2b6ff-19c1-4689-8b8b-9d8007bb52aa",
   "metadata": {},
   "outputs": [],
   "source": [
    "from sklearn.model_selection import cross_validate"
   ]
  },
  {
   "cell_type": "code",
   "execution_count": 20,
   "id": "6e380431-5555-4c9f-a754-129121c34011",
   "metadata": {
    "collapsed": true,
    "jupyter": {
     "outputs_hidden": true
    }
   },
   "outputs": [
    {
     "data": {
      "text/plain": [
       "\u001b[31mSignature:\u001b[39m\n",
       "cross_validate(\n",
       "    estimator,\n",
       "    X,\n",
       "    y=\u001b[38;5;28;01mNone\u001b[39;00m,\n",
       "    *,\n",
       "    groups=\u001b[38;5;28;01mNone\u001b[39;00m,\n",
       "    scoring=\u001b[38;5;28;01mNone\u001b[39;00m,\n",
       "    cv=\u001b[38;5;28;01mNone\u001b[39;00m,\n",
       "    n_jobs=\u001b[38;5;28;01mNone\u001b[39;00m,\n",
       "    verbose=\u001b[32m0\u001b[39m,\n",
       "    params=\u001b[38;5;28;01mNone\u001b[39;00m,\n",
       "    pre_dispatch=\u001b[33m'2*n_jobs'\u001b[39m,\n",
       "    return_train_score=\u001b[38;5;28;01mFalse\u001b[39;00m,\n",
       "    return_estimator=\u001b[38;5;28;01mFalse\u001b[39;00m,\n",
       "    return_indices=\u001b[38;5;28;01mFalse\u001b[39;00m,\n",
       "    error_score=nan,\n",
       ")\n",
       "\u001b[31mDocstring:\u001b[39m\n",
       "Evaluate metric(s) by cross-validation and also record fit/score times.\n",
       "\n",
       "Read more in the :ref:`User Guide <multimetric_cross_validation>`.\n",
       "\n",
       "Parameters\n",
       "----------\n",
       "estimator : estimator object implementing 'fit'\n",
       "    The object to use to fit the data.\n",
       "\n",
       "X : {array-like, sparse matrix} of shape (n_samples, n_features)\n",
       "    The data to fit. Can be for example a list, or an array.\n",
       "\n",
       "y : array-like of shape (n_samples,) or (n_samples, n_outputs), default=None\n",
       "    The target variable to try to predict in the case of\n",
       "    supervised learning.\n",
       "\n",
       "groups : array-like of shape (n_samples,), default=None\n",
       "    Group labels for the samples used while splitting the dataset into\n",
       "    train/test set. Only used in conjunction with a \"Group\" :term:`cv`\n",
       "    instance (e.g., :class:`GroupKFold`).\n",
       "\n",
       "    .. versionchanged:: 1.4\n",
       "        ``groups`` can only be passed if metadata routing is not enabled\n",
       "        via ``sklearn.set_config(enable_metadata_routing=True)``. When routing\n",
       "        is enabled, pass ``groups`` alongside other metadata via the ``params``\n",
       "        argument instead. E.g.:\n",
       "        ``cross_validate(..., params={'groups': groups})``.\n",
       "\n",
       "scoring : str, callable, list, tuple, or dict, default=None\n",
       "    Strategy to evaluate the performance of the `estimator` across cross-validation\n",
       "    splits.\n",
       "\n",
       "    If `scoring` represents a single score, one can use:\n",
       "\n",
       "    - a single string (see :ref:`scoring_string_names`);\n",
       "    - a callable (see :ref:`scoring_callable`) that returns a single value.\n",
       "    - `None`, the `estimator`'s\n",
       "      :ref:`default evaluation criterion <scoring_api_overview>` is used.\n",
       "\n",
       "    If `scoring` represents multiple scores, one can use:\n",
       "\n",
       "    - a list or tuple of unique strings;\n",
       "    - a callable returning a dictionary where the keys are the metric\n",
       "      names and the values are the metric scores;\n",
       "    - a dictionary with metric names as keys and callables a values.\n",
       "\n",
       "    See :ref:`multimetric_grid_search` for an example.\n",
       "\n",
       "cv : int, cross-validation generator or an iterable, default=None\n",
       "    Determines the cross-validation splitting strategy.\n",
       "    Possible inputs for cv are:\n",
       "\n",
       "    - None, to use the default 5-fold cross validation,\n",
       "    - int, to specify the number of folds in a `(Stratified)KFold`,\n",
       "    - :term:`CV splitter`,\n",
       "    - An iterable yielding (train, test) splits as arrays of indices.\n",
       "\n",
       "    For int/None inputs, if the estimator is a classifier and ``y`` is\n",
       "    either binary or multiclass, :class:`StratifiedKFold` is used. In all\n",
       "    other cases, :class:`KFold` is used. These splitters are instantiated\n",
       "    with `shuffle=False` so the splits will be the same across calls.\n",
       "\n",
       "    Refer :ref:`User Guide <cross_validation>` for the various\n",
       "    cross-validation strategies that can be used here.\n",
       "\n",
       "    .. versionchanged:: 0.22\n",
       "        ``cv`` default value if None changed from 3-fold to 5-fold.\n",
       "\n",
       "n_jobs : int, default=None\n",
       "    Number of jobs to run in parallel. Training the estimator and computing\n",
       "    the score are parallelized over the cross-validation splits.\n",
       "    ``None`` means 1 unless in a :obj:`joblib.parallel_backend` context.\n",
       "    ``-1`` means using all processors. See :term:`Glossary <n_jobs>`\n",
       "    for more details.\n",
       "\n",
       "verbose : int, default=0\n",
       "    The verbosity level.\n",
       "\n",
       "params : dict, default=None\n",
       "    Parameters to pass to the underlying estimator's ``fit``, the scorer,\n",
       "    and the CV splitter.\n",
       "\n",
       "    .. versionadded:: 1.4\n",
       "\n",
       "pre_dispatch : int or str, default='2*n_jobs'\n",
       "    Controls the number of jobs that get dispatched during parallel\n",
       "    execution. Reducing this number can be useful to avoid an\n",
       "    explosion of memory consumption when more jobs get dispatched\n",
       "    than CPUs can process. This parameter can be:\n",
       "\n",
       "    - An int, giving the exact number of total jobs that are spawned\n",
       "    - A str, giving an expression as a function of n_jobs, as in '2*n_jobs'\n",
       "\n",
       "return_train_score : bool, default=False\n",
       "    Whether to include train scores.\n",
       "    Computing training scores is used to get insights on how different\n",
       "    parameter settings impact the overfitting/underfitting trade-off.\n",
       "    However computing the scores on the training set can be computationally\n",
       "    expensive and is not strictly required to select the parameters that\n",
       "    yield the best generalization performance.\n",
       "\n",
       "    .. versionadded:: 0.19\n",
       "\n",
       "    .. versionchanged:: 0.21\n",
       "        Default value was changed from ``True`` to ``False``\n",
       "\n",
       "return_estimator : bool, default=False\n",
       "    Whether to return the estimators fitted on each split.\n",
       "\n",
       "    .. versionadded:: 0.20\n",
       "\n",
       "return_indices : bool, default=False\n",
       "    Whether to return the train-test indices selected for each split.\n",
       "\n",
       "    .. versionadded:: 1.3\n",
       "\n",
       "error_score : 'raise' or numeric, default=np.nan\n",
       "    Value to assign to the score if an error occurs in estimator fitting.\n",
       "    If set to 'raise', the error is raised.\n",
       "    If a numeric value is given, FitFailedWarning is raised.\n",
       "\n",
       "    .. versionadded:: 0.20\n",
       "\n",
       "Returns\n",
       "-------\n",
       "scores : dict of float arrays of shape (n_splits,)\n",
       "    Array of scores of the estimator for each run of the cross validation.\n",
       "\n",
       "    A dict of arrays containing the score/time arrays for each scorer is\n",
       "    returned. The possible keys for this ``dict`` are:\n",
       "\n",
       "    ``test_score``\n",
       "        The score array for test scores on each cv split.\n",
       "        Suffix ``_score`` in ``test_score`` changes to a specific\n",
       "        metric like ``test_r2`` or ``test_auc`` if there are\n",
       "        multiple scoring metrics in the scoring parameter.\n",
       "    ``train_score``\n",
       "        The score array for train scores on each cv split.\n",
       "        Suffix ``_score`` in ``train_score`` changes to a specific\n",
       "        metric like ``train_r2`` or ``train_auc`` if there are\n",
       "        multiple scoring metrics in the scoring parameter.\n",
       "        This is available only if ``return_train_score`` parameter\n",
       "        is ``True``.\n",
       "    ``fit_time``\n",
       "        The time for fitting the estimator on the train\n",
       "        set for each cv split.\n",
       "    ``score_time``\n",
       "        The time for scoring the estimator on the test set for each\n",
       "        cv split. (Note: time for scoring on the train set is not\n",
       "        included even if ``return_train_score`` is set to ``True``).\n",
       "    ``estimator``\n",
       "        The estimator objects for each cv split.\n",
       "        This is available only if ``return_estimator`` parameter\n",
       "        is set to ``True``.\n",
       "    ``indices``\n",
       "        The train/test positional indices for each cv split. A dictionary\n",
       "        is returned where the keys are either `\"train\"` or `\"test\"`\n",
       "        and the associated values are a list of integer-dtyped NumPy\n",
       "        arrays with the indices. Available only if `return_indices=True`.\n",
       "\n",
       "See Also\n",
       "--------\n",
       "cross_val_score : Run cross-validation for single metric evaluation.\n",
       "\n",
       "cross_val_predict : Get predictions from each split of cross-validation for\n",
       "    diagnostic purposes.\n",
       "\n",
       "sklearn.metrics.make_scorer : Make a scorer from a performance metric or\n",
       "    loss function.\n",
       "\n",
       "Examples\n",
       "--------\n",
       ">>> from sklearn import datasets, linear_model\n",
       ">>> from sklearn.model_selection import cross_validate\n",
       ">>> from sklearn.metrics import make_scorer\n",
       ">>> from sklearn.metrics import confusion_matrix\n",
       ">>> from sklearn.svm import LinearSVC\n",
       ">>> diabetes = datasets.load_diabetes()\n",
       ">>> X = diabetes.data[:150]\n",
       ">>> y = diabetes.target[:150]\n",
       ">>> lasso = linear_model.Lasso()\n",
       "\n",
       "Single metric evaluation using ``cross_validate``\n",
       "\n",
       ">>> cv_results = cross_validate(lasso, X, y, cv=3)\n",
       ">>> sorted(cv_results.keys())\n",
       "['fit_time', 'score_time', 'test_score']\n",
       ">>> cv_results['test_score']\n",
       "array([0.3315057 , 0.08022103, 0.03531816])\n",
       "\n",
       "Multiple metric evaluation using ``cross_validate``\n",
       "(please refer the ``scoring`` parameter doc for more information)\n",
       "\n",
       ">>> scores = cross_validate(lasso, X, y, cv=3,\n",
       "...                         scoring=('r2', 'neg_mean_squared_error'),\n",
       "...                         return_train_score=True)\n",
       ">>> print(scores['test_neg_mean_squared_error'])\n",
       "[-3635.5 -3573.3 -6114.7]\n",
       ">>> print(scores['train_r2'])\n",
       "[0.28009951 0.3908844  0.22784907]\n",
       "\u001b[31mFile:\u001b[39m      ~/repositories/teaching/sicss-2025/ml_workshop/lib/python3.12/site-packages/sklearn/model_selection/_validation.py\n",
       "\u001b[31mType:\u001b[39m      function"
      ]
     },
     "metadata": {},
     "output_type": "display_data"
    }
   ],
   "source": [
    "?cross_validate"
   ]
  },
  {
   "cell_type": "code",
   "execution_count": 13,
   "id": "8c01bd12-9a92-4bb9-8549-ced3c142f225",
   "metadata": {},
   "outputs": [],
   "source": [
    "cv_result = cross_validate(model, y=target, X=data_numeric, cv=5)"
   ]
  },
  {
   "cell_type": "code",
   "execution_count": 14,
   "id": "05ac2bcb-9a6e-4ad5-acd8-9c5f41c44e99",
   "metadata": {},
   "outputs": [
    {
     "data": {
      "text/plain": [
       "{'fit_time': array([0.04593873, 0.06396198, 0.06531525, 0.0647285 , 0.06395078]),\n",
       " 'score_time': array([0.0120492 , 0.01162267, 0.01198673, 0.01225948, 0.01173139]),\n",
       " 'test_score': array([0.79557785, 0.80049135, 0.79965192, 0.79873055, 0.80456593])}"
      ]
     },
     "execution_count": 14,
     "metadata": {},
     "output_type": "execute_result"
    }
   ],
   "source": [
    "cv_result"
   ]
  },
  {
   "cell_type": "code",
   "execution_count": 16,
   "id": "d8dc9ae5-1070-4b0d-99e8-a89f0f0a99a2",
   "metadata": {},
   "outputs": [],
   "source": [
    "scores = cv_result[\"test_score\"]"
   ]
  },
  {
   "cell_type": "code",
   "execution_count": 17,
   "id": "e6884dd1-f6a5-4c5c-a7c3-bfa4ce3b1317",
   "metadata": {},
   "outputs": [
    {
     "data": {
      "text/plain": [
       "array([0.79557785, 0.80049135, 0.79965192, 0.79873055, 0.80456593])"
      ]
     },
     "execution_count": 17,
     "metadata": {},
     "output_type": "execute_result"
    }
   ],
   "source": [
    "scores"
   ]
  },
  {
   "cell_type": "code",
   "execution_count": 18,
   "id": "9b58477f-ab4f-4f00-af93-405b6f03e2be",
   "metadata": {},
   "outputs": [],
   "source": [
    "scores_mean = scores.mean()\n",
    "scores_std = scores.std()"
   ]
  },
  {
   "cell_type": "code",
   "execution_count": 19,
   "id": "fbb56b18-1659-4d7c-a7d1-0908dbea03d3",
   "metadata": {},
   "outputs": [
    {
     "name": "stdout",
     "output_type": "stream",
     "text": [
      "The mean cross-validation accuracy is: 0.7998035202866813 +/- 0.0029046240751883553\n"
     ]
    }
   ],
   "source": [
    "print(f\"The mean cross-validation accuracy is: {scores_mean} +/- {scores_std}\")"
   ]
  },
  {
   "cell_type": "code",
   "execution_count": null,
   "id": "3ee6a89e-0333-49c1-9886-247a483ad1d4",
   "metadata": {},
   "outputs": [],
   "source": []
  },
  {
   "cell_type": "code",
   "execution_count": null,
   "id": "0fe4b5e2-2fab-4391-b24b-09c27e23b0f6",
   "metadata": {},
   "outputs": [],
   "source": []
  },
  {
   "cell_type": "markdown",
   "id": "32c43306-eb74-4ed6-96da-eb2eef0cf950",
   "metadata": {},
   "source": [
    "**Optional exercise**\n",
    "\n",
    "- look at the documentation of the `cross_validate` function. explore different evaluation metrics than accuracy.\n",
    "- Using the existing data set, build a full pipeline with scalars, models and cross-validation. Explore different options for cross-validation, following [section 3.1 in the sklearn user guide](https://scikit-learn.org/stable/modules/cross_validation.html).\n"
   ]
  }
 ],
 "metadata": {
  "kernelspec": {
   "display_name": "Python 3 (ipykernel)",
   "language": "python",
   "name": "python3"
  },
  "language_info": {
   "codemirror_mode": {
    "name": "ipython",
    "version": 3
   },
   "file_extension": ".py",
   "mimetype": "text/x-python",
   "name": "python",
   "nbconvert_exporter": "python",
   "pygments_lexer": "ipython3",
   "version": "3.12.8"
  }
 },
 "nbformat": 4,
 "nbformat_minor": 5
}
